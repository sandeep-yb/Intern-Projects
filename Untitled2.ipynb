{
 "cells": [
  {
   "cell_type": "code",
   "execution_count": 44,
   "metadata": {},
   "outputs": [],
   "source": [
    "import numpy as np\n",
    "import pandas as pd\n",
    "import matplotlib.pyplot as plt\n",
    "\n",
    "Data_Set = pd.read_csv('lin_reg.csv')\n",
    "X = Data_Set.iloc[:,:-1].values\n",
    "Y = Data_Set.iloc[:,-1:].values"
   ]
  },
  {
   "cell_type": "code",
   "execution_count": 45,
   "metadata": {},
   "outputs": [
    {
     "name": "stdout",
     "output_type": "stream",
     "text": [
      "[[0.99778459]\n",
      " [0.99604062]\n",
      " [0.99980032]\n",
      " [0.99909186]\n",
      " [0.9971563 ]\n",
      " [0.99977131]\n",
      " [0.99943403]\n",
      " [0.99981185]\n",
      " [0.99847799]\n",
      " [0.99366053]\n",
      " [0.99670057]\n",
      " [0.99999929]\n",
      " [0.99677631]\n",
      " [0.99977706]\n",
      " [0.99646218]\n",
      " [0.99541057]\n",
      " [0.9982829 ]\n",
      " [0.99411882]\n",
      " [0.9983895 ]\n",
      " [0.99915117]\n",
      " [0.99795253]\n",
      " [1.        ]\n",
      " [0.99588953]\n",
      " [0.9982142 ]\n",
      " [0.99618465]\n",
      " [0.99999999]\n",
      " [0.99999732]\n",
      " [0.99998256]\n",
      " [0.9999981 ]\n",
      " [1.        ]\n",
      " [0.99479232]\n",
      " [0.99862702]\n",
      " [0.99990372]\n",
      " [0.99724561]\n",
      " [0.99972845]\n",
      " [0.99964156]\n",
      " [0.99969531]\n",
      " [0.99633881]\n",
      " [0.99999734]\n",
      " [0.99826221]\n",
      " [0.99553451]\n",
      " [0.99897547]\n",
      " [0.99999177]\n",
      " [0.9969014 ]\n",
      " [0.99960042]\n",
      " [0.99916987]\n",
      " [0.99375804]\n",
      " [0.99698579]\n",
      " [0.99999171]\n",
      " [0.99609506]\n",
      " [0.99946899]\n",
      " [0.99507111]\n",
      " [0.99940354]\n",
      " [0.99950135]\n",
      " [0.9982261 ]\n",
      " [0.99827172]\n",
      " [0.99811925]\n",
      " [0.99645865]\n",
      " [0.99990951]\n",
      " [0.9999216 ]\n",
      " [0.99985307]\n",
      " [0.99439959]\n",
      " [1.        ]\n",
      " [0.99999966]\n",
      " [0.99999999]\n",
      " [0.99926742]\n",
      " [0.99975032]\n",
      " [0.99996415]\n",
      " [0.99592743]\n",
      " [1.        ]\n",
      " [0.99996037]\n",
      " [0.9993478 ]\n",
      " [0.99754262]\n",
      " [0.99927303]\n",
      " [0.99348363]\n",
      " [0.99856893]\n",
      " [0.99946814]\n",
      " [0.99354549]\n",
      " [0.99996548]\n",
      " [0.9939864 ]\n",
      " [0.99676085]\n",
      " [0.99445004]\n",
      " [0.99826619]\n",
      " [0.99994279]\n",
      " [0.99852246]\n",
      " [0.99980004]\n",
      " [0.99989695]\n",
      " [0.9975323 ]\n",
      " [0.99601172]\n",
      " [0.99369069]\n",
      " [0.99669069]\n",
      " [0.99951777]\n",
      " [0.99718704]\n",
      " [0.99505981]\n",
      " [0.9997499 ]\n",
      " [0.99999848]\n",
      " [0.99566591]]\n"
     ]
    }
   ],
   "source": [
    "\n",
    "def sigmoid_function(z):\n",
    "    return 1/(1+exp(-z))\n",
    "print(sigmoid_function(X))"
   ]
  },
  {
   "cell_type": "code",
   "execution_count": 2,
   "metadata": {},
   "outputs": [
    {
     "data": {
      "image/png": "[encoded data removed]",
      "text/plain": [
       "<Figure size 432x288 with 1 Axes>"
      ]
     },
     "metadata": {
      "needs_background": "light"
     },
     "output_type": "display_data"
    }
   ],
   "source": [
    "plt.scatter(X,Y,s=1,color='Black')\n",
    "plt.show()"
   ]
  },
  {
   "cell_type": "code",
   "execution_count": 3,
   "metadata": {
    "collapsed": true
   },
   "outputs": [
    {
     "name": "stdout",
     "output_type": "stream",
     "text": [
      "[[ 1.      6.1101]\n",
      " [ 1.      5.5277]\n",
      " [ 1.      8.5186]\n",
      " [ 1.      7.0032]\n",
      " [ 1.      5.8598]\n",
      " [ 1.      8.3829]\n",
      " [ 1.      7.4764]\n",
      " [ 1.      8.5781]\n",
      " [ 1.      6.4862]\n",
      " [ 1.      5.0546]\n",
      " [ 1.      5.7107]\n",
      " [ 1.     14.164 ]\n",
      " [ 1.      5.734 ]\n",
      " [ 1.      8.4084]\n",
      " [ 1.      5.6407]\n",
      " [ 1.      5.3794]\n",
      " [ 1.      6.3654]\n",
      " [ 1.      5.1301]\n",
      " [ 1.      6.4296]\n",
      " [ 1.      7.0708]\n",
      " [ 1.      6.1891]\n",
      " [ 1.     20.27  ]\n",
      " [ 1.      5.4901]\n",
      " [ 1.      6.3261]\n",
      " [ 1.      5.5649]\n",
      " [ 1.     18.945 ]\n",
      " [ 1.     12.828 ]\n",
      " [ 1.     10.957 ]\n",
      " [ 1.     13.176 ]\n",
      " [ 1.     22.203 ]\n",
      " [ 1.      5.2524]\n",
      " [ 1.      6.5894]\n",
      " [ 1.      9.2482]\n",
      " [ 1.      5.8918]\n",
      " [ 1.      8.2111]\n",
      " [ 1.      7.9334]\n",
      " [ 1.      8.0959]\n",
      " [ 1.      5.6063]\n",
      " [ 1.     12.836 ]\n",
      " [ 1.      6.3534]\n",
      " [ 1.      5.4069]\n",
      " [ 1.      6.8825]\n",
      " [ 1.     11.708 ]\n",
      " [ 1.      5.7737]\n",
      " [ 1.      7.8247]\n",
      " [ 1.      7.0931]\n",
      " [ 1.      5.0702]\n",
      " [ 1.      5.8014]\n",
      " [ 1.     11.7   ]\n",
      " [ 1.      5.5416]\n",
      " [ 1.      7.5402]\n",
      " [ 1.      5.3077]\n",
      " [ 1.      7.4239]\n",
      " [ 1.      7.6031]\n",
      " [ 1.      6.3328]\n",
      " [ 1.      6.3589]\n",
      " [ 1.      6.2742]\n",
      " [ 1.      5.6397]\n",
      " [ 1.      9.3102]\n",
      " [ 1.      9.4536]\n",
      " [ 1.      8.8254]\n",
      " [ 1.      5.1793]\n",
      " [ 1.     21.279 ]\n",
      " [ 1.     14.908 ]\n",
      " [ 1.     18.959 ]\n",
      " [ 1.      7.2182]\n",
      " [ 1.      8.2951]\n",
      " [ 1.     10.236 ]\n",
      " [ 1.      5.4994]\n",
      " [ 1.     20.341 ]\n",
      " [ 1.     10.136 ]\n",
      " [ 1.      7.3345]\n",
      " [ 1.      6.0062]\n",
      " [ 1.      7.2259]\n",
      " [ 1.      5.0269]\n",
      " [ 1.      6.5479]\n",
      " [ 1.      7.5386]\n",
      " [ 1.      5.0365]\n",
      " [ 1.     10.274 ]\n",
      " [ 1.      5.1077]\n",
      " [ 1.      5.7292]\n",
      " [ 1.      5.1884]\n",
      " [ 1.      6.3557]\n",
      " [ 1.      9.7687]\n",
      " [ 1.      6.5159]\n",
      " [ 1.      8.5172]\n",
      " [ 1.      9.1802]\n",
      " [ 1.      6.002 ]\n",
      " [ 1.      5.5204]\n",
      " [ 1.      5.0594]\n",
      " [ 1.      5.7077]\n",
      " [ 1.      7.6366]\n",
      " [ 1.      5.8707]\n",
      " [ 1.      5.3054]\n",
      " [ 1.      8.2934]\n",
      " [ 1.     13.394 ]\n",
      " [ 1.      5.4369]]\n"
     ]
    }
   ],
   "source": [
    "X = np.insert(X,0,1,axis=1)\n",
    "print(X)"
   ]
  },
  {
   "cell_type": "code",
   "execution_count": 7,
   "metadata": {},
   "outputs": [],
   "source": [
    "def Cost_function(X,Y,theta):\n",
    "    m = len(Y)\n",
    "    temp = np.subtract(np.dot(X,theta),Y)\n",
    "    return (1/(2*m))*(np.dot(np.transpose(temp),temp))"
   ]
  },
  {
   "cell_type": "code",
   "execution_count": 20,
   "metadata": {},
   "outputs": [],
   "source": [
    "theta = np.ones((np.size(X,1),1))\n",
    "p1 = [-1000]\n",
    "p2 = [Cost_function(X,Y,theta)]"
   ]
  },
  {
   "cell_type": "code",
   "execution_count": 21,
   "metadata": {},
   "outputs": [
    {
     "data": {
      "image/png": "[encoded data removed]",
      "text/plain": [
       "<Figure size 432x288 with 1 Axes>"
      ]
     },
     "metadata": {
      "needs_background": "light"
     },
     "output_type": "display_data"
    }
   ],
   "source": [
    "for i in range(-1000,1001):\n",
    "    p1 = np.append(p1,i)\n",
    "    theta[1] = i\n",
    "    p2 = np.append(p2,Cost_function(X,Y,theta))\n",
    "plt.plot(p1,p2)\n",
    "plt.show()"
   ]
  },
  {
   "cell_type": "code",
   "execution_count": 39,
   "metadata": {},
   "outputs": [],
   "source": [
    "from numpy import array,exp\n",
    "def sigmoid_function(z):\n",
    "    return 1/(1+exp(-z))"
   ]
  },
  {
   "cell_type": "code",
   "execution_count": 42,
   "metadata": {},
   "outputs": [
    {
     "name": "stdout",
     "output_type": "stream",
     "text": [
      "[[0.95257413]\n",
      " [0.99330715]]\n"
     ]
    }
   ],
   "source": [
    "y = 5\n",
    "X = array([[3],\n",
    "          [5]])\n",
    "print(sigmoid_function(X))"
   ]
  },
  {
   "cell_type": "code",
   "execution_count": 43,
   "metadata": {},
   "outputs": [
    {
     "name": "stdout",
     "output_type": "stream",
     "text": [
      "z = \n",
      " [0.2 0.4 0.1]\n",
      "g =\n",
      " [0.549834   0.59868766 0.52497919]\n",
      "\n",
      "z = \n",
      " [[0.2   0.4  ]\n",
      " [0.5   0.7  ]\n",
      " [0.9   0.004]]\n",
      "g =\n",
      " [[0.549834   0.59868766]\n",
      " [0.62245933 0.66818777]\n",
      " [0.7109495  0.501     ]]\n"
     ]
    }
   ],
   "source": [
    "from numpy import array, exp\n",
    "\n",
    "z = array([ 0.2, 0.4, 0.1])\n",
    "print('z = \\n', z)\n",
    "g = 1 / (1 + exp(-z))\n",
    "print('g =\\n', g)\n",
    "\n",
    "print()\n",
    "\n",
    "z = array([[0.2, 0.4], [0.5, 0.7], [0.9, .004]])\n",
    "print('z = \\n', z)\n",
    "g = 1 / (1 + exp(-z))\n",
    "print('g =\\n', g)"
   ]
  },
  {
   "cell_type": "code",
   "execution_count": null,
   "metadata": {},
   "outputs": [],
   "source": []
  }
 ],
 "metadata": {
  "kernelspec": {
   "display_name": "Python 3",
   "language": "python",
   "name": "python3"
  },
  "language_info": {
   "codemirror_mode": {
    "name": "ipython",
    "version": 3
   },
   "file_extension": ".py",
   "mimetype": "text/x-python",
   "name": "python",
   "nbconvert_exporter": "python",
   "pygments_lexer": "ipython3",
   "version": "3.7.1"
  }
 },
 "nbformat": 4,
 "nbformat_minor": 2
}
