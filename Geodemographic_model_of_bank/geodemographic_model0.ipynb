{
 "cells": [
  {
   "cell_type": "code",
   "execution_count": 1,
   "metadata": {},
   "outputs": [
    {
     "name": "stderr",
     "output_type": "stream",
     "text": [
      "C:\\Users\\Adarsh\\Anaconda3\\lib\\site-packages\\numpy\\core\\__init__.py:29: UserWarning: loaded more than 1 DLL from .libs:\n",
      "C:\\Users\\Adarsh\\Anaconda3\\lib\\site-packages\\numpy\\.libs\\libopenblas.IPBC74C7KURV7CB2PKT5Z5FNR3SIBV4J.gfortran-win_amd64.dll\n",
      "C:\\Users\\Adarsh\\Anaconda3\\lib\\site-packages\\numpy\\.libs\\libopenblas.TXA6YQSD3GCQQC22GEQ54J2UDCXDXHWN.gfortran-win_amd64.dll\n",
      "  stacklevel=1)\n",
      "C:\\Users\\Adarsh\\Anaconda3\\lib\\site-packages\\sklearn\\preprocessing\\_encoders.py:368: FutureWarning: The handling of integer data will change in version 0.22. Currently, the categories are determined based on the range [0, max(values)], while in the future they will be determined based on the unique values.\n",
      "If you want the future behaviour and silence this warning, you can specify \"categories='auto'\".\n",
      "In case you used a LabelEncoder before this OneHotEncoder to convert the categories to integers, then you can now use the OneHotEncoder directly.\n",
      "  warnings.warn(msg, FutureWarning)\n",
      "C:\\Users\\Adarsh\\Anaconda3\\lib\\site-packages\\sklearn\\preprocessing\\_encoders.py:390: DeprecationWarning: The 'categorical_features' keyword is deprecated in version 0.20 and will be removed in 0.22. You can use the ColumnTransformer instead.\n",
      "  \"use the ColumnTransformer instead.\", DeprecationWarning)\n"
     ]
    }
   ],
   "source": [
    "import numpy as np\n",
    "import pandas as pd\n",
    "import matplotlib.pyplot as plt\n",
    "\n",
    "Data_Set = pd.read_csv('Churn_Modelling.csv')\n",
    "X = Data_Set.iloc[:,3:13].values\n",
    "Y = Data_Set.iloc[: ,13:14].values\n",
    "\n",
    "from sklearn.preprocessing import LabelEncoder,OneHotEncoder\n",
    "obj1 = LabelEncoder()\n",
    "X[:,1] = obj1.fit_transform(X[:,1])\n",
    "obj2 = LabelEncoder()\n",
    "X[:,2] = obj1.fit_transform(X[:,2])\n",
    "obj3 = OneHotEncoder(categorical_features=[1])\n",
    "X = obj3.fit_transform(X).toarray()\n",
    "X = X[:,1:]\n",
    "\n",
    "from sklearn.model_selection import train_test_split\n",
    "x_train,x_test,y_train,y_test = train_test_split(X,Y,test_size=0.2)\n",
    "from sklearn.preprocessing import StandardScaler\n",
    "obj = StandardScaler()\n",
    "x_train = obj.fit_transform(x_train)\n",
    "x_test = obj.transform(x_test)"
   ]
  },
  {
   "cell_type": "code",
   "execution_count": 2,
   "metadata": {},
   "outputs": [
    {
     "name": "stderr",
     "output_type": "stream",
     "text": [
      "C:\\Users\\Adarsh\\Anaconda3\\lib\\site-packages\\sklearn\\linear_model\\logistic.py:433: FutureWarning: Default solver will be changed to 'lbfgs' in 0.22. Specify a solver to silence this warning.\n",
      "  FutureWarning)\n",
      "C:\\Users\\Adarsh\\Anaconda3\\lib\\site-packages\\sklearn\\utils\\validation.py:761: DataConversionWarning: A column-vector y was passed when a 1d array was expected. Please change the shape of y to (n_samples, ), for example using ravel().\n",
      "  y = column_or_1d(y, warn=True)\n"
     ]
    }
   ],
   "source": [
    "from sklearn.linear_model import LogisticRegression\n",
    "regressor = LogisticRegression()\n",
    "regressor.fit(x_train,y_train)\n",
    "y_pred = regressor.predict(x_test)"
   ]
  },
  {
   "cell_type": "code",
   "execution_count": 3,
   "metadata": {},
   "outputs": [
    {
     "name": "stdout",
     "output_type": "stream",
     "text": [
      "[[1530   74]\n",
      " [ 306   90]]\n"
     ]
    }
   ],
   "source": [
    "from sklearn.metrics import confusion_matrix\n",
    "obj = confusion_matrix(y_test,y_pred)\n",
    "print(obj)"
   ]
  },
  {
   "cell_type": "code",
   "execution_count": null,
   "metadata": {},
   "outputs": [],
   "source": [
    "#percentage correct via Logistic Regression \n",
    "print((1522+86)/((344+48)+(1522+86))*100)"
   ]
  },
  {
   "cell_type": "code",
   "execution_count": 4,
   "metadata": {},
   "outputs": [
    {
     "name": "stderr",
     "output_type": "stream",
     "text": [
      "Using TensorFlow backend.\n"
     ]
    },
    {
     "name": "stdout",
     "output_type": "stream",
     "text": [
      "WARNING:tensorflow:From C:\\Users\\Adarsh\\Anaconda3\\lib\\site-packages\\tensorflow\\python\\framework\\op_def_library.py:263: colocate_with (from tensorflow.python.framework.ops) is deprecated and will be removed in a future version.\n",
      "Instructions for updating:\n",
      "Colocations handled automatically by placer.\n"
     ]
    }
   ],
   "source": [
    "from keras.models import Sequential\n",
    "from keras.layers import Dense\n",
    "classifier = Sequential()\n",
    "classifier.add(Dense(6,activation='relu',input_dim=11))\n",
    "classifier.add(Dense(1,activation='sigmoid'))"
   ]
  },
  {
   "cell_type": "code",
   "execution_count": 5,
   "metadata": {},
   "outputs": [],
   "source": [
    "classifier.compile(optimizer='adam',loss='binary_crossentropy',metrics=['accuracy'])"
   ]
  },
  {
   "cell_type": "code",
   "execution_count": 6,
   "metadata": {
    "collapsed": true
   },
   "outputs": [
    {
     "name": "stdout",
     "output_type": "stream",
     "text": [
      "WARNING:tensorflow:From C:\\Users\\Adarsh\\Anaconda3\\lib\\site-packages\\tensorflow\\python\\ops\\math_ops.py:3066: to_int32 (from tensorflow.python.ops.math_ops) is deprecated and will be removed in a future version.\n",
      "Instructions for updating:\n",
      "Use tf.cast instead.\n",
      "Epoch 1/100\n",
      "8000/8000 [==============================] - 1s 88us/step - loss: 0.5802 - acc: 0.7827\n",
      "Epoch 2/100\n",
      "8000/8000 [==============================] - 0s 45us/step - loss: 0.4937 - acc: 0.7959\n",
      "Epoch 3/100\n",
      "8000/8000 [==============================] - 0s 50us/step - loss: 0.4561 - acc: 0.8034\n",
      "Epoch 4/100\n",
      "8000/8000 [==============================] - 0s 56us/step - loss: 0.4408 - acc: 0.8057\n",
      "Epoch 5/100\n",
      "8000/8000 [==============================] - 0s 54us/step - loss: 0.4326 - acc: 0.8075\n",
      "Epoch 6/100\n",
      "8000/8000 [==============================] - 0s 48us/step - loss: 0.4267 - acc: 0.8098: 0s - loss: 0.4327 - acc: 0\n",
      "Epoch 7/100\n",
      "8000/8000 [==============================] - 0s 41us/step - loss: 0.4214 - acc: 0.8144\n",
      "Epoch 8/100\n",
      "8000/8000 [==============================] - 0s 42us/step - loss: 0.4162 - acc: 0.8171\n",
      "Epoch 9/100\n",
      "8000/8000 [==============================] - 0s 45us/step - loss: 0.4116 - acc: 0.8205\n",
      "Epoch 10/100\n",
      "8000/8000 [==============================] - 0s 43us/step - loss: 0.4070 - acc: 0.8219\n",
      "Epoch 11/100\n",
      "8000/8000 [==============================] - 0s 44us/step - loss: 0.4034 - acc: 0.8235\n",
      "Epoch 12/100\n",
      "8000/8000 [==============================] - 0s 43us/step - loss: 0.3999 - acc: 0.8249\n",
      "Epoch 13/100\n",
      "8000/8000 [==============================] - 0s 44us/step - loss: 0.3971 - acc: 0.8259\n",
      "Epoch 14/100\n",
      "8000/8000 [==============================] - 0s 44us/step - loss: 0.3948 - acc: 0.8272\n",
      "Epoch 15/100\n",
      "8000/8000 [==============================] - 0s 48us/step - loss: 0.3929 - acc: 0.8295\n",
      "Epoch 16/100\n",
      "8000/8000 [==============================] - 0s 43us/step - loss: 0.3910 - acc: 0.8283\n",
      "Epoch 17/100\n",
      "8000/8000 [==============================] - 0s 44us/step - loss: 0.3892 - acc: 0.8295\n",
      "Epoch 18/100\n",
      "8000/8000 [==============================] - 0s 43us/step - loss: 0.3878 - acc: 0.8294\n",
      "Epoch 19/100\n",
      "8000/8000 [==============================] - 0s 44us/step - loss: 0.3862 - acc: 0.8297\n",
      "Epoch 20/100\n",
      "8000/8000 [==============================] - 0s 44us/step - loss: 0.3850 - acc: 0.8283\n",
      "Epoch 21/100\n",
      "8000/8000 [==============================] - 0s 44us/step - loss: 0.3835 - acc: 0.8290\n",
      "Epoch 22/100\n",
      "8000/8000 [==============================] - 0s 44us/step - loss: 0.3823 - acc: 0.8299\n",
      "Epoch 23/100\n",
      "8000/8000 [==============================] - 0s 44us/step - loss: 0.3812 - acc: 0.8300\n",
      "Epoch 24/100\n",
      "8000/8000 [==============================] - 0s 45us/step - loss: 0.3804 - acc: 0.8301\n",
      "Epoch 25/100\n",
      "8000/8000 [==============================] - 0s 42us/step - loss: 0.3793 - acc: 0.8304\n",
      "Epoch 26/100\n",
      "8000/8000 [==============================] - 0s 43us/step - loss: 0.3783 - acc: 0.8310\n",
      "Epoch 27/100\n",
      "8000/8000 [==============================] - 0s 43us/step - loss: 0.3774 - acc: 0.8297\n",
      "Epoch 28/100\n",
      "8000/8000 [==============================] - 0s 43us/step - loss: 0.3765 - acc: 0.8313\n",
      "Epoch 29/100\n",
      "8000/8000 [==============================] - 0s 42us/step - loss: 0.3755 - acc: 0.8349\n",
      "Epoch 30/100\n",
      "8000/8000 [==============================] - 0s 43us/step - loss: 0.3747 - acc: 0.8423\n",
      "Epoch 31/100\n",
      "8000/8000 [==============================] - 0s 51us/step - loss: 0.3739 - acc: 0.8436\n",
      "Epoch 32/100\n",
      "8000/8000 [==============================] - 0s 43us/step - loss: 0.3730 - acc: 0.8441\n",
      "Epoch 33/100\n",
      "8000/8000 [==============================] - 0s 43us/step - loss: 0.3720 - acc: 0.8461\n",
      "Epoch 34/100\n",
      "8000/8000 [==============================] - 0s 42us/step - loss: 0.3711 - acc: 0.8460\n",
      "Epoch 35/100\n",
      "8000/8000 [==============================] - 0s 43us/step - loss: 0.3705 - acc: 0.8478\n",
      "Epoch 36/100\n",
      "8000/8000 [==============================] - 0s 43us/step - loss: 0.3696 - acc: 0.8458\n",
      "Epoch 37/100\n",
      "8000/8000 [==============================] - 0s 42us/step - loss: 0.3690 - acc: 0.8474\n",
      "Epoch 38/100\n",
      "8000/8000 [==============================] - 0s 43us/step - loss: 0.3683 - acc: 0.8499\n",
      "Epoch 39/100\n",
      "8000/8000 [==============================] - 0s 44us/step - loss: 0.3676 - acc: 0.8509\n",
      "Epoch 40/100\n",
      "8000/8000 [==============================] - 0s 40us/step - loss: 0.3668 - acc: 0.8494\n",
      "Epoch 41/100\n",
      "8000/8000 [==============================] - 0s 43us/step - loss: 0.3663 - acc: 0.8493\n",
      "Epoch 42/100\n",
      "8000/8000 [==============================] - 0s 42us/step - loss: 0.3659 - acc: 0.8491\n",
      "Epoch 43/100\n",
      "8000/8000 [==============================] - 0s 43us/step - loss: 0.3653 - acc: 0.8490\n",
      "Epoch 44/100\n",
      "8000/8000 [==============================] - 0s 43us/step - loss: 0.3647 - acc: 0.8496\n",
      "Epoch 45/100\n",
      "8000/8000 [==============================] - 0s 41us/step - loss: 0.3644 - acc: 0.8500\n",
      "Epoch 46/100\n",
      "8000/8000 [==============================] - 0s 41us/step - loss: 0.3638 - acc: 0.8516\n",
      "Epoch 47/100\n",
      "8000/8000 [==============================] - 0s 44us/step - loss: 0.3634 - acc: 0.8524\n",
      "Epoch 48/100\n",
      "8000/8000 [==============================] - 0s 43us/step - loss: 0.3628 - acc: 0.8512\n",
      "Epoch 49/100\n",
      "8000/8000 [==============================] - 0s 49us/step - loss: 0.3625 - acc: 0.8530\n",
      "Epoch 50/100\n",
      "8000/8000 [==============================] - 0s 48us/step - loss: 0.3618 - acc: 0.8531\n",
      "Epoch 51/100\n",
      "8000/8000 [==============================] - 0s 49us/step - loss: 0.3618 - acc: 0.8541\n",
      "Epoch 52/100\n",
      "8000/8000 [==============================] - 0s 45us/step - loss: 0.3611 - acc: 0.8526\n",
      "Epoch 53/100\n",
      "8000/8000 [==============================] - 0s 40us/step - loss: 0.3606 - acc: 0.8541\n",
      "Epoch 54/100\n",
      "8000/8000 [==============================] - 0s 39us/step - loss: 0.3605 - acc: 0.8530\n",
      "Epoch 55/100\n",
      "8000/8000 [==============================] - 0s 42us/step - loss: 0.3602 - acc: 0.8541\n",
      "Epoch 56/100\n",
      "8000/8000 [==============================] - 0s 41us/step - loss: 0.3597 - acc: 0.8549\n",
      "Epoch 57/100\n",
      "8000/8000 [==============================] - 0s 44us/step - loss: 0.3594 - acc: 0.8525\n",
      "Epoch 58/100\n",
      "8000/8000 [==============================] - 0s 40us/step - loss: 0.3592 - acc: 0.8539\n",
      "Epoch 59/100\n",
      "8000/8000 [==============================] - 0s 41us/step - loss: 0.3587 - acc: 0.8556\n",
      "Epoch 60/100\n",
      "8000/8000 [==============================] - 0s 39us/step - loss: 0.3587 - acc: 0.8561\n",
      "Epoch 61/100\n",
      "8000/8000 [==============================] - 0s 40us/step - loss: 0.3579 - acc: 0.8550\n",
      "Epoch 62/100\n",
      "8000/8000 [==============================] - 0s 40us/step - loss: 0.3575 - acc: 0.8549\n",
      "Epoch 63/100\n",
      "8000/8000 [==============================] - 0s 40us/step - loss: 0.3574 - acc: 0.8556\n",
      "Epoch 64/100\n",
      "8000/8000 [==============================] - 0s 37us/step - loss: 0.3573 - acc: 0.8550\n",
      "Epoch 65/100\n",
      "8000/8000 [==============================] - 0s 38us/step - loss: 0.3567 - acc: 0.8559\n",
      "Epoch 66/100\n",
      "8000/8000 [==============================] - 0s 38us/step - loss: 0.3566 - acc: 0.8559\n",
      "Epoch 67/100\n",
      "8000/8000 [==============================] - 0s 40us/step - loss: 0.3562 - acc: 0.8561\n",
      "Epoch 68/100\n",
      "8000/8000 [==============================] - 0s 40us/step - loss: 0.3560 - acc: 0.8576\n",
      "Epoch 69/100\n",
      "8000/8000 [==============================] - 0s 40us/step - loss: 0.3558 - acc: 0.8551\n",
      "Epoch 70/100\n",
      "8000/8000 [==============================] - 0s 40us/step - loss: 0.3556 - acc: 0.8575\n",
      "Epoch 71/100\n",
      "8000/8000 [==============================] - 0s 40us/step - loss: 0.3555 - acc: 0.8565\n",
      "Epoch 72/100\n",
      "8000/8000 [==============================] - 0s 40us/step - loss: 0.3548 - acc: 0.8566\n",
      "Epoch 73/100\n",
      "8000/8000 [==============================] - 0s 40us/step - loss: 0.3549 - acc: 0.8564\n",
      "Epoch 74/100\n",
      "8000/8000 [==============================] - 0s 40us/step - loss: 0.3547 - acc: 0.8585\n",
      "Epoch 75/100\n",
      "8000/8000 [==============================] - 0s 40us/step - loss: 0.3545 - acc: 0.8569\n",
      "Epoch 76/100\n",
      "8000/8000 [==============================] - 0s 38us/step - loss: 0.3543 - acc: 0.8575\n",
      "Epoch 77/100\n",
      "8000/8000 [==============================] - 0s 39us/step - loss: 0.3542 - acc: 0.8569\n",
      "Epoch 78/100\n",
      "8000/8000 [==============================] - 0s 39us/step - loss: 0.3541 - acc: 0.8565\n",
      "Epoch 79/100\n",
      "8000/8000 [==============================] - 0s 39us/step - loss: 0.3536 - acc: 0.8574\n",
      "Epoch 80/100\n"
     ]
    },
    {
     "name": "stdout",
     "output_type": "stream",
     "text": [
      "8000/8000 [==============================] - 0s 43us/step - loss: 0.3535 - acc: 0.8576\n",
      "Epoch 81/100\n",
      "8000/8000 [==============================] - 0s 43us/step - loss: 0.3532 - acc: 0.8570\n",
      "Epoch 82/100\n",
      "8000/8000 [==============================] - 0s 44us/step - loss: 0.3535 - acc: 0.8574\n",
      "Epoch 83/100\n",
      "8000/8000 [==============================] - 0s 44us/step - loss: 0.3532 - acc: 0.8570\n",
      "Epoch 84/100\n",
      "8000/8000 [==============================] - 0s 44us/step - loss: 0.3531 - acc: 0.8566\n",
      "Epoch 85/100\n",
      "8000/8000 [==============================] - 0s 45us/step - loss: 0.3524 - acc: 0.8579\n",
      "Epoch 86/100\n",
      "8000/8000 [==============================] - 0s 45us/step - loss: 0.3528 - acc: 0.8565\n",
      "Epoch 87/100\n",
      "8000/8000 [==============================] - 0s 43us/step - loss: 0.3525 - acc: 0.8572\n",
      "Epoch 88/100\n",
      "8000/8000 [==============================] - 0s 44us/step - loss: 0.3526 - acc: 0.8574\n",
      "Epoch 89/100\n",
      "8000/8000 [==============================] - 0s 47us/step - loss: 0.3523 - acc: 0.8572\n",
      "Epoch 90/100\n",
      "8000/8000 [==============================] - 0s 42us/step - loss: 0.3521 - acc: 0.8575\n",
      "Epoch 91/100\n",
      "8000/8000 [==============================] - 0s 42us/step - loss: 0.3520 - acc: 0.8581\n",
      "Epoch 92/100\n",
      "8000/8000 [==============================] - 0s 44us/step - loss: 0.3522 - acc: 0.8585\n",
      "Epoch 93/100\n",
      "8000/8000 [==============================] - 0s 43us/step - loss: 0.3520 - acc: 0.8587\n",
      "Epoch 94/100\n",
      "8000/8000 [==============================] - 0s 44us/step - loss: 0.3518 - acc: 0.8570\n",
      "Epoch 95/100\n",
      "8000/8000 [==============================] - 0s 44us/step - loss: 0.3517 - acc: 0.8572\n",
      "Epoch 96/100\n",
      "8000/8000 [==============================] - 0s 51us/step - loss: 0.3514 - acc: 0.8574\n",
      "Epoch 97/100\n",
      "8000/8000 [==============================] - 0s 54us/step - loss: 0.3514 - acc: 0.8589\n",
      "Epoch 98/100\n",
      "8000/8000 [==============================] - 0s 51us/step - loss: 0.3515 - acc: 0.8571\n",
      "Epoch 99/100\n",
      "8000/8000 [==============================] - 0s 50us/step - loss: 0.3515 - acc: 0.8572\n",
      "Epoch 100/100\n",
      "8000/8000 [==============================] - 0s 45us/step - loss: 0.3510 - acc: 0.8594\n"
     ]
    },
    {
     "data": {
      "text/plain": [
       "<keras.callbacks.History at 0x14bfdcfe3c8>"
      ]
     },
     "execution_count": 6,
     "metadata": {},
     "output_type": "execute_result"
    }
   ],
   "source": [
    "classifier.fit(x_train,y_train,batch_size=32,epochs=100)"
   ]
  },
  {
   "cell_type": "code",
   "execution_count": 11,
   "metadata": {},
   "outputs": [],
   "source": [
    "y_pred = classifier.predict(x_test)\n",
    "y_pred = (y_pred > 0.5)"
   ]
  },
  {
   "cell_type": "code",
   "execution_count": 12,
   "metadata": {},
   "outputs": [
    {
     "name": "stdout",
     "output_type": "stream",
     "text": [
      "[[1531   73]\n",
      " [ 210  186]]\n"
     ]
    }
   ],
   "source": [
    "from sklearn.metrics import confusion_matrix\n",
    "obj = confusion_matrix(y_test,y_pred)\n",
    "print(obj)"
   ]
  },
  {
   "cell_type": "code",
   "execution_count": 13,
   "metadata": {},
   "outputs": [
    {
     "name": "stdout",
     "output_type": "stream",
     "text": [
      "85.85000000000001\n"
     ]
    }
   ],
   "source": [
    "print((1531+186)/((73+210)+(1531+186))*100)"
   ]
  },
  {
   "cell_type": "code",
   "execution_count": null,
   "metadata": {},
   "outputs": [],
   "source": []
  }
 ],
 "metadata": {
  "kernelspec": {
   "display_name": "Python 3",
   "language": "python",
   "name": "python3"
  },
  "language_info": {
   "codemirror_mode": {
    "name": "ipython",
    "version": 3
   },
   "file_extension": ".py",
   "mimetype": "text/x-python",
   "name": "python",
   "nbconvert_exporter": "python",
   "pygments_lexer": "ipython3",
   "version": "3.7.1"
  }
 },
 "nbformat": 4,
 "nbformat_minor": 2
}
