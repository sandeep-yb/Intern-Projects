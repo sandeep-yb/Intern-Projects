{
 "cells": [
  {
   "cell_type": "code",
   "execution_count": 2,
   "metadata": {},
   "outputs": [
    {
     "name": "stderr",
     "output_type": "stream",
     "text": [
      "C:\\Users\\Adarsh\\Anaconda3\\lib\\site-packages\\numpy\\core\\__init__.py:29: UserWarning: loaded more than 1 DLL from .libs:\n",
      "C:\\Users\\Adarsh\\Anaconda3\\lib\\site-packages\\numpy\\.libs\\libopenblas.IPBC74C7KURV7CB2PKT5Z5FNR3SIBV4J.gfortran-win_amd64.dll\n",
      "C:\\Users\\Adarsh\\Anaconda3\\lib\\site-packages\\numpy\\.libs\\libopenblas.TXA6YQSD3GCQQC22GEQ54J2UDCXDXHWN.gfortran-win_amd64.dll\n",
      "  stacklevel=1)\n"
     ]
    },
    {
     "data": {
      "text/plain": [
       "[array([5.0269]),\n",
       " array([5.0365]),\n",
       " array([5.0546]),\n",
       " array([5.0594]),\n",
       " array([5.0702]),\n",
       " array([5.1077]),\n",
       " array([5.1301]),\n",
       " array([5.1793]),\n",
       " array([5.1884]),\n",
       " array([5.2524]),\n",
       " array([5.3054]),\n",
       " array([5.3077]),\n",
       " array([5.3794]),\n",
       " array([5.4069]),\n",
       " array([5.4369]),\n",
       " array([5.4901]),\n",
       " array([5.4994]),\n",
       " array([5.5204]),\n",
       " array([5.5277]),\n",
       " array([5.5416]),\n",
       " array([5.5649]),\n",
       " array([5.6063]),\n",
       " array([5.6397]),\n",
       " array([5.6407]),\n",
       " array([5.7077]),\n",
       " array([5.7107]),\n",
       " array([5.7292]),\n",
       " array([5.734]),\n",
       " array([5.7737]),\n",
       " array([5.8014]),\n",
       " array([5.8598]),\n",
       " array([5.8707]),\n",
       " array([5.8918]),\n",
       " array([6.002]),\n",
       " array([6.0062]),\n",
       " array([6.1101]),\n",
       " array([6.1891]),\n",
       " array([6.2742]),\n",
       " array([6.3261]),\n",
       " array([6.3328]),\n",
       " array([6.3534]),\n",
       " array([6.3557]),\n",
       " array([6.3589]),\n",
       " array([6.3654]),\n",
       " array([6.4296]),\n",
       " array([6.4862]),\n",
       " array([6.5159]),\n",
       " array([6.5479]),\n",
       " array([6.5894]),\n",
       " array([6.8825]),\n",
       " array([7.0032]),\n",
       " array([7.0708]),\n",
       " array([7.0931]),\n",
       " array([7.2182]),\n",
       " array([7.2259]),\n",
       " array([7.3345]),\n",
       " array([7.4239]),\n",
       " array([7.4764]),\n",
       " array([7.5386]),\n",
       " array([7.5402]),\n",
       " array([7.6031]),\n",
       " array([7.6366]),\n",
       " array([7.8247]),\n",
       " array([7.9334]),\n",
       " array([8.0959]),\n",
       " array([8.2111]),\n",
       " array([8.2934]),\n",
       " array([8.2951]),\n",
       " array([8.3829]),\n",
       " array([8.4084]),\n",
       " array([8.5172]),\n",
       " array([8.5186]),\n",
       " array([8.5781]),\n",
       " array([8.8254]),\n",
       " array([9.1802]),\n",
       " array([9.2482]),\n",
       " array([9.3102]),\n",
       " array([9.4536]),\n",
       " array([9.7687]),\n",
       " array([10.136]),\n",
       " array([10.236]),\n",
       " array([10.274]),\n",
       " array([10.957]),\n",
       " array([11.7]),\n",
       " array([11.708]),\n",
       " array([12.828]),\n",
       " array([12.836]),\n",
       " array([13.176]),\n",
       " array([13.394]),\n",
       " array([14.164]),\n",
       " array([14.908]),\n",
       " array([18.945]),\n",
       " array([18.959]),\n",
       " array([20.27]),\n",
       " array([20.341]),\n",
       " array([21.279]),\n",
       " array([22.203])]"
      ]
     },
     "execution_count": 2,
     "metadata": {},
     "output_type": "execute_result"
    }
   ],
   "source": [
    "import numpy as np\n",
    "import pandas as pd\n",
    "import matplotlib.pyplot as plt\n",
    "\n",
    "Data_Set = pd.read_csv('lin_reg.csv')\n",
    "X = Data_Set.iloc[:,:-1].values\n",
    "Y = Data_Set.iloc[:,-1:].values\n",
    "X_temp = X"
   ]
  },
  {
   "cell_type": "code",
   "execution_count": 2,
   "metadata": {},
   "outputs": [
    {
     "data": {
      "image/png": "[encoded data removed]",
      "text/plain": [
       "<Figure size 432x288 with 1 Axes>"
      ]
     },
     "metadata": {
      "needs_background": "light"
     },
     "output_type": "display_data"
    }
   ],
   "source": [
    "plt.scatter(X,Y,s=1,color='Black')\n",
    "plt.show()"
   ]
  },
  {
   "cell_type": "code",
   "execution_count": 3,
   "metadata": {},
   "outputs": [],
   "source": [
    "X = np.insert(X,0,1,axis=1)"
   ]
  },
  {
   "cell_type": "code",
   "execution_count": 4,
   "metadata": {},
   "outputs": [],
   "source": [
    "def Cost_function(X,Y,theta):\n",
    "    m = len(Y)\n",
    "    temp = np.dot(X,theta)-Y\n",
    "    return (1/(2*m))*(np.dot(np.transpose(temp),temp))"
   ]
  },
  {
   "cell_type": "code",
   "execution_count": 5,
   "metadata": {},
   "outputs": [
    {
     "data": {
      "text/plain": [
       "array([[10.26652049]])"
      ]
     },
     "execution_count": 5,
     "metadata": {},
     "output_type": "execute_result"
    }
   ],
   "source": [
    "theta = np.ones((np.size(X,1),1))\n",
    "Cost_function(X,Y,theta)"
   ]
  },
  {
   "cell_type": "code",
   "execution_count": 11,
   "metadata": {},
   "outputs": [],
   "source": [
    "def StotasticGrad_Descent(X,Y,theta):\n",
    "    max_iter = 10000\n",
    "    alpha = 0.001\n",
    "    m = len(X)\n",
    "    p1=[]\n",
    "    p2=[]\n",
    "    for i in range(0,len(X)):\n",
    "        X_temp = X[i]\n",
    "        X_temp = np.array(X_temp)[np.newaxis]\n",
    "        X_temp = np.transpose(X_temp)\n",
    "        err = np.subtract(np.dot(np.transpose(theta),X_temp),Y[i])\n",
    "        temp = np.multiply(X_temp,err)\n",
    "        theta = theta - (np.multiply((alpha/m),(np.multiply(err,X_temp))))\n",
    "        p1 = np.append(p1,i)\n",
    "        p2 = np.append(p2,Cost_function(X,Y,theta))\n",
    "    return theta,p1,p2"
   ]
  },
  {
   "cell_type": "code",
   "execution_count": 13,
   "metadata": {},
   "outputs": [
    {
     "data": {
      "image/png": "[encoded data removed]",
      "text/plain": [
       "<Figure size 432x288 with 1 Axes>"
      ]
     },
     "metadata": {
      "needs_background": "light"
     },
     "output_type": "display_data"
    }
   ],
   "source": [
    "theta,u,v = StotasticGrad_Descent(X,Y,theta)\n",
    "u = np.transpose(u)\n",
    "v = np.transpose(v)\n",
    "plt.plot(u,v,color='Black')\n",
    "plt.show()"
   ]
  },
  {
   "cell_type": "code",
   "execution_count": 14,
   "metadata": {},
   "outputs": [
    {
     "name": "stdout",
     "output_type": "stream",
     "text": [
      "[[0.95317908]\n",
      " [0.7254731 ]]\n"
     ]
    }
   ],
   "source": [
    "print(theta)"
   ]
  },
  {
   "cell_type": "code",
   "execution_count": 24,
   "metadata": {},
   "outputs": [],
   "source": [
    "def draw_line(theta):\n",
    "    a = theta[0]\n",
    "    b = theta[1]\n",
    "    x = [0,30]\n",
    "    y = [a,a+30*b]\n",
    "    plt.plot(x,y,color=\"Red\")"
   ]
  },
  {
   "cell_type": "code",
   "execution_count": 26,
   "metadata": {},
   "outputs": [
    {
     "data": {
      "text/plain": [
       "<matplotlib.collections.PathCollection at 0x21b96f0f780>"
      ]
     },
     "execution_count": 26,
     "metadata": {},
     "output_type": "execute_result"
    },
    {
     "data": {
      "image/png": "[encoded data removed]",
      "text/plain": [
       "<Figure size 432x288 with 1 Axes>"
      ]
     },
     "metadata": {
      "needs_background": "light"
     },
     "output_type": "display_data"
    }
   ],
   "source": [
    "draw_line(theta)\n",
    "plt.scatter(X,Y,s=1,color='Black')"
   ]
  },
  {
   "cell_type": "code",
   "execution_count": 27,
   "metadata": {},
   "outputs": [
    {
     "data": {
      "image/png": "[encoded data removed]",
      "text/plain": [
       "<Figure size 432x288 with 1 Axes>"
      ]
     },
     "metadata": {
      "needs_background": "light"
     },
     "output_type": "display_data"
    }
   ],
   "source": [
    "from sklearn.linear_model import LinearRegression\n",
    "Regressor= LinearRegression()\n",
    "Regressor.fit(X_temp,Y)\n",
    "plt.scatter(X_temp,Y, color = 'k' , s = 4)\n",
    "plt.plot(X_temp,Regressor.predict(X_temp),color='blue',lw=0.1)\n",
    "plt.show()"
   ]
  },
  {
   "cell_type": "code",
   "execution_count": 3,
   "metadata": {},
   "outputs": [
    {
     "name": "stdout",
     "output_type": "stream",
     "text": [
      "[[-4]\n",
      " [ 1]]\n"
     ]
    }
   ],
   "source": [
    "x = [[1],\n",
    "     [6]]\n",
    "print(np.subtract(x,5))"
   ]
  },
  {
   "cell_type": "code",
   "execution_count": null,
   "metadata": {},
   "outputs": [],
   "source": []
  }
 ],
 "metadata": {
  "kernelspec": {
   "display_name": "Python 3",
   "language": "python",
   "name": "python3"
  },
  "language_info": {
   "codemirror_mode": {
    "name": "ipython",
    "version": 3
   },
   "file_extension": ".py",
   "mimetype": "text/x-python",
   "name": "python",
   "nbconvert_exporter": "python",
   "pygments_lexer": "ipython3",
   "version": "3.7.1"
  }
 },
 "nbformat": 4,
 "nbformat_minor": 2
}
